{
  "nbformat": 4,
  "nbformat_minor": 0,
  "metadata": {
    "colab": {
      "name": "Untitled1.ipynb",
      "provenance": [],
      "collapsed_sections": []
    },
    "kernelspec": {
      "name": "python3",
      "display_name": "Python 3"
    },
    "language_info": {
      "name": "python"
    }
  },
  "cells": [
    {
      "cell_type": "code",
      "metadata": {
        "colab": {
          "base_uri": "https://localhost:8080/"
        },
        "id": "fhrKcBecrTwC",
        "outputId": "7ded9d1b-ea5f-45c5-9130-95f63dd1398d"
      },
      "source": [
        "record={\n",
        "    1001:{\"pname\":\"dairymilk\",\"price\":150,\"quantity\":5,\"pcode\":\"a1001\",\"pcategory\":\"choc\"},\n",
        "    1002:{\"pname\":\"fivestar\",\"price\":10,\"quantity\":5,\"pcode\":\"a1002\",\"pcategory\":\"choc\"},\n",
        "    1003:{\"pname\":\"oreo\",\"price\":100,\"quantity\":5,\"pcode\":\"a1003\",\"pcategory\":\"biscuit\"},\n",
        "    1004:{\"pname\":\"redmi\",\"price\":10000,\"quantity\":10,\"pcode\":\"a1004\",\"pcategory\":\"mobile\"},\n",
        "    1005:{\"pname\":\"vivo\",\"price\":11000,\"quantity\":15,\"pcode\":\"a1005\",\"pcategory\":\"mobile\"},\n",
        "    1006:{\"pname\":\"oppo\",\"price\":8000,\"quantity\":11,\"pcode\":\"a1006\",\"pcategory\":\"mobile\"},\n",
        "    1007:{\"pname\":\"iphone\",\"price\":15000,\"quantity\":5,\"pcode\":\"a1007\",\"pcategory\":\"mobile\"},\n",
        "    1008:{\"pname\":\"HP\",\"price\":50000,\"quantity\":3,\"pcode\":\"a1008\",\"pcategory\":\"laptop\"},\n",
        "    1009:{\"pname\":\"Dell\",\"price\":45000,\"quantity\":5,\"pcode\":\"a1009\",\"pcategory\":\"laptop\"},\n",
        "    1010:{\"pname\":\"lenevo\",\"price\":6000,\"quantity\":8,\"pcode\":\"a1010\",\"pcategory\":\"choc\"},\n",
        "    1011:{\"pname\":\"fivestar\",\"price\":10,\"quantity\":5,\"pcode\":\"a1011\",\"pcategory\":\"choc\"},\n",
        "    1012:{\"pname\":\"oreo\",\"price\":100,\"quantity\":5,\"pcode\":\"a1012\",\"pcategory\":\"biscuit\"},\n",
        "    1013:{\"pname\":\"dairymilk\",\"price\":150,\"quantity\":5,\"pcode\":\"a1013\",\"pcategory\":\"choc\"},\n",
        "    1014:{\"pname\":\"fivestar\",\"price\":10,\"quantity\":5,\"pcode\":\"a1014\",\"pcategory\":\"choc\"},\n",
        "    1015:{\"pname\":\"oreo\",\"price\":100,\"quantity\":5,\"pcode\":\"a1015\",\"pcategory\":\"biscuit\"},\n",
        "    1016:{\"pname\":\"dairymilk\",\"price\":150,\"quantity\":5,\"pcode\":\"a1016\",\"pcategory\":\"choc\"},\n",
        "    1017:{\"pname\":\"fivestar\",\"price\":10,\"quantity\":5,\"pcode\":\"a1017\",\"pcategory\":\"choc\"},\n",
        "    1018:{\"pname\":\"oreo\",\"price\":100,\"quantity\":5,\"pcode\":\"a1018\",\"pcategory\":\"biscuit\"},\n",
        "    1019:{\"pname\":\"dairymilk\",\"price\":150,\"quantity\":5,\"pcode\":\"a1019\",\"pcategory\":\"choc\"},\n",
        "    1020:{\"pname\":\"fivestar\",\"price\":10,\"quantity\":5,\"pcode\":\"a1020\",\"pcategory\":\"choc\"},\n",
        "    1021:{\"pname\":\"oreo\",\"price\":100,\"quantity\":5,\"pcode\":\"a1021\",\"pcategory\":\"biscuit\"},\n",
        "    1022:{\"pname\":\"dairymilk\",\"price\":150,\"quantity\":5,\"pcode\":\"a1022\",\"pcategory\":\"choc\"},\n",
        "    1023:{\"pname\":\"fivestar\",\"price\":10,\"quantity\":5,\"pcode\":\"a1023\",\"pcategory\":\"choc\"},\n",
        "    1024:{\"pname\":\"oreo\",\"price\":100,\"quantity\":5,\"pcode\":\"a1024\",\"pcategory\":\"biscuit\"},\n",
        "    1025:{\"pname\":\"dairymilk\",\"price\":150,\"quantity\":5,\"pcode\":\"a1025\",\"pcategory\":\"choc\"},\n",
        "    1026:{\"pname\":\"fivestar\",\"price\":10,\"quantity\":5,\"pcode\":\"a1026\",\"pcategory\":\"choc\"},\n",
        "    1027:{\"pname\":\"oreo\",\"price\":100,\"quantity\":5,\"pcode\":\"a1027\",\"pcategory\":\"biscuit\"},\n",
        "    1028:{\"pname\":\"dairymilk\",\"price\":150,\"quantity\":5,\"pcode\":\"a1028\",\"pcategory\":\"choc\"},\n",
        "    1029:{\"pname\":\"fivestar\",\"price\":10,\"quantity\":5,\"pcode\":\"a1029\",\"pcategory\":\"choc\"},\n",
        "    1030:{\"pname\":\"oreo\",\"price\":100,\"quantity\":5,\"pcode\":\"a1030\",\"pcategory\":\"biscuit\"}\n",
        "    \n",
        "\n",
        "\n",
        "\n",
        "\n",
        "\n",
        "\n",
        "\n",
        "}\n",
        "print(record)"
      ],
      "execution_count": 1,
      "outputs": [
        {
          "output_type": "stream",
          "name": "stdout",
          "text": [
            "{1001: {'pname': 'dairymilk', 'price': 150, 'quantity': 5, 'pcode': 'a1001', 'pcategory': 'choc'}, 1002: {'pname': 'fivestar', 'price': 10, 'quantity': 5, 'pcode': 'a1002', 'pcategory': 'choc'}, 1003: {'pname': 'oreo', 'price': 100, 'quantity': 5, 'pcode': 'a1003', 'pcategory': 'biscuit'}, 1004: {'pname': 'redmi', 'price': 10000, 'quantity': 10, 'pcode': 'a1004', 'pcategory': 'mobile'}, 1005: {'pname': 'vivo', 'price': 11000, 'quantity': 15, 'pcode': 'a1005', 'pcategory': 'mobile'}, 1006: {'pname': 'oppo', 'price': 8000, 'quantity': 11, 'pcode': 'a1006', 'pcategory': 'mobile'}, 1007: {'pname': 'iphone', 'price': 15000, 'quantity': 5, 'pcode': 'a1007', 'pcategory': 'mobile'}, 1008: {'pname': 'HP', 'price': 50000, 'quantity': 3, 'pcode': 'a1008', 'pcategory': 'laptop'}, 1009: {'pname': 'Dell', 'price': 45000, 'quantity': 5, 'pcode': 'a1009', 'pcategory': 'laptop'}, 1010: {'pname': 'lenevo', 'price': 6000, 'quantity': 8, 'pcode': 'a1010', 'pcategory': 'choc'}, 1011: {'pname': 'fivestar', 'price': 10, 'quantity': 5, 'pcode': 'a1011', 'pcategory': 'choc'}, 1012: {'pname': 'oreo', 'price': 100, 'quantity': 5, 'pcode': 'a1012', 'pcategory': 'biscuit'}, 1013: {'pname': 'dairymilk', 'price': 150, 'quantity': 5, 'pcode': 'a1013', 'pcategory': 'choc'}, 1014: {'pname': 'fivestar', 'price': 10, 'quantity': 5, 'pcode': 'a1014', 'pcategory': 'choc'}, 1015: {'pname': 'oreo', 'price': 100, 'quantity': 5, 'pcode': 'a1015', 'pcategory': 'biscuit'}, 1016: {'pname': 'dairymilk', 'price': 150, 'quantity': 5, 'pcode': 'a1016', 'pcategory': 'choc'}, 1017: {'pname': 'fivestar', 'price': 10, 'quantity': 5, 'pcode': 'a1017', 'pcategory': 'choc'}, 1018: {'pname': 'oreo', 'price': 100, 'quantity': 5, 'pcode': 'a1018', 'pcategory': 'biscuit'}, 1019: {'pname': 'dairymilk', 'price': 150, 'quantity': 5, 'pcode': 'a1019', 'pcategory': 'choc'}, 1020: {'pname': 'fivestar', 'price': 10, 'quantity': 5, 'pcode': 'a1020', 'pcategory': 'choc'}, 1021: {'pname': 'oreo', 'price': 100, 'quantity': 5, 'pcode': 'a1021', 'pcategory': 'biscuit'}, 1022: {'pname': 'dairymilk', 'price': 150, 'quantity': 5, 'pcode': 'a1022', 'pcategory': 'choc'}, 1023: {'pname': 'fivestar', 'price': 10, 'quantity': 5, 'pcode': 'a1023', 'pcategory': 'choc'}, 1024: {'pname': 'oreo', 'price': 100, 'quantity': 5, 'pcode': 'a1024', 'pcategory': 'biscuit'}, 1025: {'pname': 'dairymilk', 'price': 150, 'quantity': 5, 'pcode': 'a1025', 'pcategory': 'choc'}, 1026: {'pname': 'fivestar', 'price': 10, 'quantity': 5, 'pcode': 'a1026', 'pcategory': 'choc'}, 1027: {'pname': 'oreo', 'price': 100, 'quantity': 5, 'pcode': 'a1027', 'pcategory': 'biscuit'}, 1028: {'pname': 'dairymilk', 'price': 150, 'quantity': 5, 'pcode': 'a1028', 'pcategory': 'choc'}, 1029: {'pname': 'fivestar', 'price': 10, 'quantity': 5, 'pcode': 'a1029', 'pcategory': 'choc'}, 1030: {'pname': 'oreo', 'price': 100, 'quantity': 5, 'pcode': 'a1030', 'pcategory': 'biscuit'}}\n"
          ]
        }
      ]
    },
    {
      "cell_type": "code",
      "metadata": {
        "id": "VEnHLoOlt898"
      },
      "source": [
        "import json\n",
        "j= json.dumps(record)\n",
        "fb= open(\"record.json\",'w') \n",
        "fb.write(j)\n",
        "fb.close()"
      ],
      "execution_count": 2,
      "outputs": []
    },
    {
      "cell_type": "code",
      "metadata": {
        "colab": {
          "base_uri": "https://localhost:8080/"
        },
        "id": "XJn4BaGKzUkQ",
        "outputId": "55e87c11-5552-4dcd-f608-3cf9f565cb12"
      },
      "source": [
        "fb= open(\"record.json\",'r') \n",
        "vb=fb.read()\n",
        "fb.close()\n",
        "k= json.loads(vb)\n",
        "print(k)"
      ],
      "execution_count": 3,
      "outputs": [
        {
          "output_type": "stream",
          "name": "stdout",
          "text": [
            "{'1001': {'pname': 'dairymilk', 'price': 150, 'quantity': 5, 'pcode': 'a1001', 'pcategory': 'choc'}, '1002': {'pname': 'fivestar', 'price': 10, 'quantity': 5, 'pcode': 'a1002', 'pcategory': 'choc'}, '1003': {'pname': 'oreo', 'price': 100, 'quantity': 5, 'pcode': 'a1003', 'pcategory': 'biscuit'}, '1004': {'pname': 'redmi', 'price': 10000, 'quantity': 10, 'pcode': 'a1004', 'pcategory': 'mobile'}, '1005': {'pname': 'vivo', 'price': 11000, 'quantity': 15, 'pcode': 'a1005', 'pcategory': 'mobile'}, '1006': {'pname': 'oppo', 'price': 8000, 'quantity': 11, 'pcode': 'a1006', 'pcategory': 'mobile'}, '1007': {'pname': 'iphone', 'price': 15000, 'quantity': 5, 'pcode': 'a1007', 'pcategory': 'mobile'}, '1008': {'pname': 'HP', 'price': 50000, 'quantity': 3, 'pcode': 'a1008', 'pcategory': 'laptop'}, '1009': {'pname': 'Dell', 'price': 45000, 'quantity': 5, 'pcode': 'a1009', 'pcategory': 'laptop'}, '1010': {'pname': 'lenevo', 'price': 6000, 'quantity': 8, 'pcode': 'a1010', 'pcategory': 'choc'}, '1011': {'pname': 'fivestar', 'price': 10, 'quantity': 5, 'pcode': 'a1011', 'pcategory': 'choc'}, '1012': {'pname': 'oreo', 'price': 100, 'quantity': 5, 'pcode': 'a1012', 'pcategory': 'biscuit'}, '1013': {'pname': 'dairymilk', 'price': 150, 'quantity': 5, 'pcode': 'a1013', 'pcategory': 'choc'}, '1014': {'pname': 'fivestar', 'price': 10, 'quantity': 5, 'pcode': 'a1014', 'pcategory': 'choc'}, '1015': {'pname': 'oreo', 'price': 100, 'quantity': 5, 'pcode': 'a1015', 'pcategory': 'biscuit'}, '1016': {'pname': 'dairymilk', 'price': 150, 'quantity': 5, 'pcode': 'a1016', 'pcategory': 'choc'}, '1017': {'pname': 'fivestar', 'price': 10, 'quantity': 5, 'pcode': 'a1017', 'pcategory': 'choc'}, '1018': {'pname': 'oreo', 'price': 100, 'quantity': 5, 'pcode': 'a1018', 'pcategory': 'biscuit'}, '1019': {'pname': 'dairymilk', 'price': 150, 'quantity': 5, 'pcode': 'a1019', 'pcategory': 'choc'}, '1020': {'pname': 'fivestar', 'price': 10, 'quantity': 5, 'pcode': 'a1020', 'pcategory': 'choc'}, '1021': {'pname': 'oreo', 'price': 100, 'quantity': 5, 'pcode': 'a1021', 'pcategory': 'biscuit'}, '1022': {'pname': 'dairymilk', 'price': 150, 'quantity': 5, 'pcode': 'a1022', 'pcategory': 'choc'}, '1023': {'pname': 'fivestar', 'price': 10, 'quantity': 5, 'pcode': 'a1023', 'pcategory': 'choc'}, '1024': {'pname': 'oreo', 'price': 100, 'quantity': 5, 'pcode': 'a1024', 'pcategory': 'biscuit'}, '1025': {'pname': 'dairymilk', 'price': 150, 'quantity': 5, 'pcode': 'a1025', 'pcategory': 'choc'}, '1026': {'pname': 'fivestar', 'price': 10, 'quantity': 5, 'pcode': 'a1026', 'pcategory': 'choc'}, '1027': {'pname': 'oreo', 'price': 100, 'quantity': 5, 'pcode': 'a1027', 'pcategory': 'biscuit'}, '1028': {'pname': 'dairymilk', 'price': 150, 'quantity': 5, 'pcode': 'a1028', 'pcategory': 'choc'}, '1029': {'pname': 'fivestar', 'price': 10, 'quantity': 5, 'pcode': 'a1029', 'pcategory': 'choc'}, '1030': {'pname': 'oreo', 'price': 100, 'quantity': 5, 'pcode': 'a1030', 'pcategory': 'biscuit'}}\n"
          ]
        }
      ]
    },
    {
      "cell_type": "code",
      "metadata": {
        "id": "BvGXJtBN1cPW",
        "colab": {
          "base_uri": "https://localhost:8080/"
        },
        "outputId": "1558e069-f944-45f1-a713-997b41ee699e"
      },
      "source": [
        "pid=int(input(\"Enter the pid:\"))\n",
        "quantitysold=2\n",
        "record[pid]['quantity']=record[pid]['quantity']-quantitysold\n",
        "\n"
      ],
      "execution_count": 6,
      "outputs": [
        {
          "name": "stdout",
          "output_type": "stream",
          "text": [
            "Enter the pid:1004\n"
          ]
        }
      ]
    },
    {
      "cell_type": "code",
      "metadata": {
        "id": "g_Ks9xiCElCb"
      },
      "source": [
        "sales={\n",
        "    1:{\"pid\":1002,\"price\":150,\"quantity\":5}\n",
        "}"
      ],
      "execution_count": 7,
      "outputs": []
    },
    {
      "cell_type": "code",
      "metadata": {
        "id": "FNe6rh7vGERL"
      },
      "source": [
        "import json\n",
        "j= json.dumps(sales)\n",
        "fb= open(\"sales.json\",'w') \n",
        "fb.write(j)\n",
        "fb.close()"
      ],
      "execution_count": 8,
      "outputs": []
    },
    {
      "cell_type": "code",
      "metadata": {
        "id": "5G6nD7lBG0NR",
        "colab": {
          "base_uri": "https://localhost:8080/"
        },
        "outputId": "c2a28e8a-e595-41de-a380-138c47d0f183"
      },
      "source": [
        "fb= open(\"record.json\",'r') \n",
        "vb=fb.read()\n",
        "fb.close()\n",
        "k= json.loads(vb)\n",
        "print(k)"
      ],
      "execution_count": 9,
      "outputs": [
        {
          "output_type": "stream",
          "name": "stdout",
          "text": [
            "{'1001': {'pname': 'dairymilk', 'price': 150, 'quantity': 5, 'pcode': 'a1001', 'pcategory': 'choc'}, '1002': {'pname': 'fivestar', 'price': 10, 'quantity': 5, 'pcode': 'a1002', 'pcategory': 'choc'}, '1003': {'pname': 'oreo', 'price': 100, 'quantity': 5, 'pcode': 'a1003', 'pcategory': 'biscuit'}, '1004': {'pname': 'redmi', 'price': 10000, 'quantity': 10, 'pcode': 'a1004', 'pcategory': 'mobile'}, '1005': {'pname': 'vivo', 'price': 11000, 'quantity': 15, 'pcode': 'a1005', 'pcategory': 'mobile'}, '1006': {'pname': 'oppo', 'price': 8000, 'quantity': 11, 'pcode': 'a1006', 'pcategory': 'mobile'}, '1007': {'pname': 'iphone', 'price': 15000, 'quantity': 5, 'pcode': 'a1007', 'pcategory': 'mobile'}, '1008': {'pname': 'HP', 'price': 50000, 'quantity': 3, 'pcode': 'a1008', 'pcategory': 'laptop'}, '1009': {'pname': 'Dell', 'price': 45000, 'quantity': 5, 'pcode': 'a1009', 'pcategory': 'laptop'}, '1010': {'pname': 'lenevo', 'price': 6000, 'quantity': 8, 'pcode': 'a1010', 'pcategory': 'choc'}, '1011': {'pname': 'fivestar', 'price': 10, 'quantity': 5, 'pcode': 'a1011', 'pcategory': 'choc'}, '1012': {'pname': 'oreo', 'price': 100, 'quantity': 5, 'pcode': 'a1012', 'pcategory': 'biscuit'}, '1013': {'pname': 'dairymilk', 'price': 150, 'quantity': 5, 'pcode': 'a1013', 'pcategory': 'choc'}, '1014': {'pname': 'fivestar', 'price': 10, 'quantity': 5, 'pcode': 'a1014', 'pcategory': 'choc'}, '1015': {'pname': 'oreo', 'price': 100, 'quantity': 5, 'pcode': 'a1015', 'pcategory': 'biscuit'}, '1016': {'pname': 'dairymilk', 'price': 150, 'quantity': 5, 'pcode': 'a1016', 'pcategory': 'choc'}, '1017': {'pname': 'fivestar', 'price': 10, 'quantity': 5, 'pcode': 'a1017', 'pcategory': 'choc'}, '1018': {'pname': 'oreo', 'price': 100, 'quantity': 5, 'pcode': 'a1018', 'pcategory': 'biscuit'}, '1019': {'pname': 'dairymilk', 'price': 150, 'quantity': 5, 'pcode': 'a1019', 'pcategory': 'choc'}, '1020': {'pname': 'fivestar', 'price': 10, 'quantity': 5, 'pcode': 'a1020', 'pcategory': 'choc'}, '1021': {'pname': 'oreo', 'price': 100, 'quantity': 5, 'pcode': 'a1021', 'pcategory': 'biscuit'}, '1022': {'pname': 'dairymilk', 'price': 150, 'quantity': 5, 'pcode': 'a1022', 'pcategory': 'choc'}, '1023': {'pname': 'fivestar', 'price': 10, 'quantity': 5, 'pcode': 'a1023', 'pcategory': 'choc'}, '1024': {'pname': 'oreo', 'price': 100, 'quantity': 5, 'pcode': 'a1024', 'pcategory': 'biscuit'}, '1025': {'pname': 'dairymilk', 'price': 150, 'quantity': 5, 'pcode': 'a1025', 'pcategory': 'choc'}, '1026': {'pname': 'fivestar', 'price': 10, 'quantity': 5, 'pcode': 'a1026', 'pcategory': 'choc'}, '1027': {'pname': 'oreo', 'price': 100, 'quantity': 5, 'pcode': 'a1027', 'pcategory': 'biscuit'}, '1028': {'pname': 'dairymilk', 'price': 150, 'quantity': 5, 'pcode': 'a1028', 'pcategory': 'choc'}, '1029': {'pname': 'fivestar', 'price': 10, 'quantity': 5, 'pcode': 'a1029', 'pcategory': 'choc'}, '1030': {'pname': 'oreo', 'price': 100, 'quantity': 5, 'pcode': 'a1030', 'pcategory': 'biscuit'}}\n"
          ]
        }
      ]
    },
    {
      "cell_type": "code",
      "metadata": {
        "id": "u1rgXNegJWV5"
      },
      "source": [
        "sales[(len(sales)+1)]={\"pid\":pid,\"price\":record[pid][\"price\"]*quantitysold,\"quantity\":quantitysold}"
      ],
      "execution_count": 10,
      "outputs": []
    },
    {
      "cell_type": "code",
      "metadata": {
        "colab": {
          "base_uri": "https://localhost:8080/"
        },
        "id": "ML0tsuMFHBpO",
        "outputId": "a9d482c6-676c-44b5-e17c-026530a3cd8e"
      },
      "source": [
        "sales"
      ],
      "execution_count": 11,
      "outputs": [
        {
          "output_type": "execute_result",
          "data": {
            "text/plain": [
              "{1: {'pid': 1002, 'price': 150, 'quantity': 5},\n",
              " 2: {'pid': 1004, 'price': 20000, 'quantity': 2}}"
            ]
          },
          "metadata": {},
          "execution_count": 11
        }
      ]
    }
  ]
}